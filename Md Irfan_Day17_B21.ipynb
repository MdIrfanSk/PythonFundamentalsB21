{
 "cells": [
  {
   "cell_type": "code",
   "execution_count": null,
   "metadata": {},
   "outputs": [],
   "source": [
    "#Introduction to python classes:\n",
    "\n",
    "1.class\n",
    "    It is a high level design of the program.\n",
    "    It is the blue print of the design.\n",
    "\n",
    "2.method\n",
    "    Function written inside the class is called \"method\".\n",
    "    \n",
    "3.attributes\n",
    "    Variable written inside the class is called \"attribute\".\n",
    "    \n",
    "4.self\n",
    "    It is temprory placeholder for an object\n",
    "    \n",
    "5.object\n",
    "    It is a access point to the class methods"
   ]
  },
  {
   "cell_type": "code",
   "execution_count": null,
   "metadata": {},
   "outputs": [],
   "source": []
  },
  {
   "cell_type": "code",
   "execution_count": null,
   "metadata": {},
   "outputs": [],
   "source": [
    "#Example\n",
    "#req1: Create a user class for cpturing the details. \n",
    "Description: \n",
    "    1.create a ...createname methos ---> for considering the input name from the user\n",
    "    2.create a display method ---> for diplaying the name\n",
    "    3.create the greet method ---> for freeting the user\n",
    "    "
   ]
  },
  {
   "cell_type": "code",
   "execution_count": 13,
   "metadata": {},
   "outputs": [],
   "source": [
    "class User: #it should be Title class\n",
    "    \"\"\"creating an user class for capturing the details\"\"\"\n",
    "    \n",
    "    def createname(self,name): #this is a method************\n",
    "        \"\"\"created to take the input from the user\"\"\"\n",
    "        self.name = name.title() #this is a attribute************\n",
    "        \n",
    "    def displayname(self): \n",
    "        \"\"\"created to display input capturedfrom user\"\"\"\n",
    "        print(f\"{self.name}\")\n",
    "        \n",
    "    def greetuser(self): #\n",
    "        \"\"\"created to greet user\"\"\"\n",
    "        print(f\"Welcome back to the class, {self.name}.\")"
   ]
  },
  {
   "cell_type": "code",
   "execution_count": 14,
   "metadata": {},
   "outputs": [],
   "source": [
    "objx = User() #Object assignemet to the class."
   ]
  },
  {
   "cell_type": "code",
   "execution_count": null,
   "metadata": {},
   "outputs": [],
   "source": []
  },
  {
   "cell_type": "code",
   "execution_count": 15,
   "metadata": {},
   "outputs": [],
   "source": [
    "objx.createname('nihar') #here defines self is temprory object. (self.name = name ,,,, objx.name ='nihar')"
   ]
  },
  {
   "cell_type": "code",
   "execution_count": 16,
   "metadata": {},
   "outputs": [
    {
     "name": "stdout",
     "output_type": "stream",
     "text": [
      "Nihar\n"
     ]
    }
   ],
   "source": [
    "objx.displayname()"
   ]
  },
  {
   "cell_type": "code",
   "execution_count": 18,
   "metadata": {},
   "outputs": [
    {
     "name": "stdout",
     "output_type": "stream",
     "text": [
      "Welcome back to the class, Nihar.\n"
     ]
    }
   ],
   "source": [
    "objx.greetuser()"
   ]
  },
  {
   "cell_type": "code",
   "execution_count": null,
   "metadata": {},
   "outputs": [],
   "source": [
    "##Example2"
   ]
  },
  {
   "cell_type": "code",
   "execution_count": 19,
   "metadata": {},
   "outputs": [],
   "source": [
    "objuser = User()"
   ]
  },
  {
   "cell_type": "code",
   "execution_count": 20,
   "metadata": {},
   "outputs": [],
   "source": [
    "objuser.createname('ramya')"
   ]
  },
  {
   "cell_type": "code",
   "execution_count": 21,
   "metadata": {},
   "outputs": [
    {
     "name": "stdout",
     "output_type": "stream",
     "text": [
      "Ramya\n"
     ]
    }
   ],
   "source": [
    "objuser.displayname()"
   ]
  },
  {
   "cell_type": "code",
   "execution_count": 22,
   "metadata": {},
   "outputs": [
    {
     "name": "stdout",
     "output_type": "stream",
     "text": [
      "Welcome back to the class, Ramya.\n"
     ]
    }
   ],
   "source": [
    "objuser.greetuser()"
   ]
  },
  {
   "cell_type": "code",
   "execution_count": null,
   "metadata": {},
   "outputs": [],
   "source": []
  },
  {
   "cell_type": "code",
   "execution_count": 24,
   "metadata": {},
   "outputs": [],
   "source": [
    "#****The above is the example of object oriented programming (OOP)."
   ]
  },
  {
   "cell_type": "code",
   "execution_count": null,
   "metadata": {},
   "outputs": [],
   "source": []
  },
  {
   "cell_type": "code",
   "execution_count": null,
   "metadata": {},
   "outputs": [],
   "source": []
  }
 ],
 "metadata": {
  "kernelspec": {
   "display_name": "Python 3",
   "language": "python",
   "name": "python3"
  },
  "language_info": {
   "codemirror_mode": {
    "name": "ipython",
    "version": 3
   },
   "file_extension": ".py",
   "mimetype": "text/x-python",
   "name": "python",
   "nbconvert_exporter": "python",
   "pygments_lexer": "ipython3",
   "version": "3.7.6"
  }
 },
 "nbformat": 4,
 "nbformat_minor": 4
}
