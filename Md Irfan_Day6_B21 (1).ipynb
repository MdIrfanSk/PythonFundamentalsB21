{
 "cells": [
  {
   "cell_type": "code",
   "execution_count": null,
   "metadata": {},
   "outputs": [],
   "source": [
    "###Continuation on for loops:"
   ]
  },
  {
   "cell_type": "code",
   "execution_count": 1,
   "metadata": {},
   "outputs": [],
   "source": [
    "students = ['suresh','ramya','yasmeen','nihar','tarun','syeda','sneha']"
   ]
  },
  {
   "cell_type": "code",
   "execution_count": null,
   "metadata": {},
   "outputs": [],
   "source": []
  },
  {
   "cell_type": "code",
   "execution_count": null,
   "metadata": {},
   "outputs": [],
   "source": [
    "#Req1:\n",
    "    1. appreciate all for sending practice file.\n",
    "    2. Also tell them to looking forward to recieve the file today as well."
   ]
  },
  {
   "cell_type": "code",
   "execution_count": null,
   "metadata": {},
   "outputs": [],
   "source": [
    "# will be iterating from the list will split them out of the list."
   ]
  },
  {
   "cell_type": "code",
   "execution_count": 3,
   "metadata": {},
   "outputs": [
    {
     "name": "stdout",
     "output_type": "stream",
     "text": [
      "Suresh\n",
      "Ramya\n",
      "Yasmeen\n",
      "Nihar\n",
      "Tarun\n",
      "Syeda\n",
      "Sneha\n"
     ]
    }
   ],
   "source": [
    "for each in students:\n",
    "    print(each.title())"
   ]
  },
  {
   "cell_type": "code",
   "execution_count": 4,
   "metadata": {},
   "outputs": [],
   "source": [
    "#Enhancement of the code:"
   ]
  },
  {
   "cell_type": "code",
   "execution_count": 5,
   "metadata": {},
   "outputs": [
    {
     "name": "stdout",
     "output_type": "stream",
     "text": [
      "Keep up the good work,Suresh\n",
      "Looking forward to recieve the file today as well,Suresh\n",
      "Keep up the good work,Ramya\n",
      "Looking forward to recieve the file today as well,Ramya\n",
      "Keep up the good work,Yasmeen\n",
      "Looking forward to recieve the file today as well,Yasmeen\n",
      "Keep up the good work,Nihar\n",
      "Looking forward to recieve the file today as well,Nihar\n",
      "Keep up the good work,Tarun\n",
      "Looking forward to recieve the file today as well,Tarun\n",
      "Keep up the good work,Syeda\n",
      "Looking forward to recieve the file today as well,Syeda\n",
      "Keep up the good work,Sneha\n",
      "Looking forward to recieve the file today as well,Sneha\n"
     ]
    }
   ],
   "source": [
    "for each in students:\n",
    "    print(f\"Keep up the good work,{each.title()}\")\n",
    "    print(f\"Looking forward to recieve the file today as well,{each.title()}\")"
   ]
  },
  {
   "cell_type": "code",
   "execution_count": null,
   "metadata": {},
   "outputs": [],
   "source": []
  },
  {
   "cell_type": "code",
   "execution_count": 15,
   "metadata": {},
   "outputs": [
    {
     "name": "stdout",
     "output_type": "stream",
     "text": [
      "Keep up the good work,Suresh.\n",
      "Looking forward to recieve the file today as well,Suresh.\n",
      "\n",
      "Keep up the good work,Ramya.\n",
      "Looking forward to recieve the file today as well,Ramya.\n",
      "\n",
      "Keep up the good work,Yasmeen.\n",
      "Looking forward to recieve the file today as well,Yasmeen.\n",
      "\n",
      "Keep up the good work,Nihar.\n",
      "Looking forward to recieve the file today as well,Nihar.\n",
      "\n",
      "Keep up the good work,Tarun.\n",
      "Looking forward to recieve the file today as well,Tarun.\n",
      "\n",
      "Keep up the good work,Syeda.\n",
      "Looking forward to recieve the file today as well,Syeda.\n",
      "\n",
      "Keep up the good work,Sneha.\n",
      "Looking forward to recieve the file today as well,Sneha.\n",
      "\n"
     ]
    }
   ],
   "source": [
    "for each in students:\n",
    "    print(f\"Keep up the good work,{each.title()}.\")\n",
    "    print(f\"Looking forward to recieve the file today as well,{each.title()}.\\n\")"
   ]
  },
  {
   "cell_type": "code",
   "execution_count": null,
   "metadata": {},
   "outputs": [],
   "source": []
  },
  {
   "cell_type": "code",
   "execution_count": 16,
   "metadata": {},
   "outputs": [
    {
     "name": "stdout",
     "output_type": "stream",
     "text": [
      "Keep up the good work, looking forward to recieve the file today as well,Suresh.\n",
      "\n",
      "Keep up the good work, looking forward to recieve the file today as well,Ramya.\n",
      "\n",
      "Keep up the good work, looking forward to recieve the file today as well,Yasmeen.\n",
      "\n",
      "Keep up the good work, looking forward to recieve the file today as well,Nihar.\n",
      "\n",
      "Keep up the good work, looking forward to recieve the file today as well,Tarun.\n",
      "\n",
      "Keep up the good work, looking forward to recieve the file today as well,Syeda.\n",
      "\n",
      "Keep up the good work, looking forward to recieve the file today as well,Sneha.\n",
      "\n",
      "Thank you all for joining the python sessions.\n"
     ]
    }
   ],
   "source": [
    "for each in students:\n",
    "    print(f\"Keep up the good work, looking forward to recieve the file today as well,{each.title()}.\\n\")\n",
    "    \n",
    "print('Thank you all for joining the python sessions.')"
   ]
  },
  {
   "cell_type": "code",
   "execution_count": null,
   "metadata": {},
   "outputs": [],
   "source": []
  },
  {
   "cell_type": "code",
   "execution_count": null,
   "metadata": {},
   "outputs": [],
   "source": [
    "##Introduction to if else condition: (if else block)****"
   ]
  },
  {
   "cell_type": "code",
   "execution_count": null,
   "metadata": {},
   "outputs": [],
   "source": [
    "#general syntax:\n",
    "        if x == 'condition'\n",
    "            action if true\n",
    "        else:\n",
    "            action if false"
   ]
  },
  {
   "cell_type": "code",
   "execution_count": 17,
   "metadata": {},
   "outputs": [],
   "source": [
    "my_students=('rahul','nilesh','sahana','rohini','maneesh','dinesh')"
   ]
  },
  {
   "cell_type": "code",
   "execution_count": null,
   "metadata": {},
   "outputs": [],
   "source": []
  },
  {
   "cell_type": "code",
   "execution_count": null,
   "metadata": {},
   "outputs": [],
   "source": [
    "#req1: Nilesh is coming -----> print his name in all capital rest all wil be title case."
   ]
  },
  {
   "cell_type": "code",
   "execution_count": null,
   "metadata": {},
   "outputs": [],
   "source": []
  },
  {
   "cell_type": "code",
   "execution_count": 18,
   "metadata": {},
   "outputs": [
    {
     "name": "stdout",
     "output_type": "stream",
     "text": [
      "Rahul\n",
      "NILESH\n",
      "Sahana\n",
      "Rohini\n",
      "Maneesh\n",
      "Dinesh\n"
     ]
    }
   ],
   "source": [
    "for x in my_students:\n",
    "    if x == 'nilesh':\n",
    "        print(x.upper())\n",
    "    else:\n",
    "        print(x.title())"
   ]
  },
  {
   "cell_type": "code",
   "execution_count": null,
   "metadata": {},
   "outputs": [],
   "source": []
  },
  {
   "cell_type": "code",
   "execution_count": null,
   "metadata": {},
   "outputs": [],
   "source": [
    "####Introduction to slicing of lists: "
   ]
  },
  {
   "cell_type": "code",
   "execution_count": 19,
   "metadata": {},
   "outputs": [
    {
     "name": "stdout",
     "output_type": "stream",
     "text": [
      "('rahul', 'nilesh', 'sahana', 'rohini', 'maneesh', 'dinesh')\n"
     ]
    }
   ],
   "source": [
    "print(my_students)"
   ]
  },
  {
   "cell_type": "code",
   "execution_count": null,
   "metadata": {},
   "outputs": [],
   "source": [
    "#General syntax:  ## totally based on the indexing.\n",
    "    mainvar[startvalue:stopvalue:Stepcount]"
   ]
  },
  {
   "cell_type": "code",
   "execution_count": null,
   "metadata": {},
   "outputs": [],
   "source": [
    "#Req1: add nilesh and rahul in single group\n",
    "\n",
    "****last value is always exclusive (+1)"
   ]
  },
  {
   "cell_type": "code",
   "execution_count": 23,
   "metadata": {},
   "outputs": [
    {
     "name": "stdout",
     "output_type": "stream",
     "text": [
      "('rahul',)\n"
     ]
    }
   ],
   "source": [
    "print(my_students[0:1])"
   ]
  },
  {
   "cell_type": "code",
   "execution_count": 22,
   "metadata": {},
   "outputs": [
    {
     "name": "stdout",
     "output_type": "stream",
     "text": [
      "('rahul', 'nilesh')\n"
     ]
    }
   ],
   "source": [
    "print(my_students[0:2])"
   ]
  },
  {
   "cell_type": "code",
   "execution_count": 24,
   "metadata": {},
   "outputs": [
    {
     "name": "stdout",
     "output_type": "stream",
     "text": [
      "('sahana', 'rohini')\n"
     ]
    }
   ],
   "source": [
    "print(my_students[2:4])"
   ]
  },
  {
   "cell_type": "code",
   "execution_count": 25,
   "metadata": {},
   "outputs": [
    {
     "name": "stdout",
     "output_type": "stream",
     "text": [
      "('maneesh', 'dinesh')\n"
     ]
    }
   ],
   "source": [
    "#start value : stopvalue\n",
    "print(my_students[4:6]) #last value is always exclusive"
   ]
  },
  {
   "cell_type": "code",
   "execution_count": null,
   "metadata": {},
   "outputs": [],
   "source": []
  }
 ],
 "metadata": {
  "kernelspec": {
   "display_name": "Python 3",
   "language": "python",
   "name": "python3"
  },
  "language_info": {
   "codemirror_mode": {
    "name": "ipython",
    "version": 3
   },
   "file_extension": ".py",
   "mimetype": "text/x-python",
   "name": "python",
   "nbconvert_exporter": "python",
   "pygments_lexer": "ipython3",
   "version": "3.7.6"
  }
 },
 "nbformat": 4,
 "nbformat_minor": 4
}
