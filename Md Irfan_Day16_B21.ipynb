{
 "cells": [
  {
   "cell_type": "code",
   "execution_count": null,
   "metadata": {},
   "outputs": [],
   "source": [
    "#Introduction to while loops:\n",
    "Defination:\n",
    "    While a certain condition is true, then only it executes."
   ]
  },
  {
   "cell_type": "code",
   "execution_count": 2,
   "metadata": {},
   "outputs": [
    {
     "name": "stdout",
     "output_type": "stream",
     "text": [
      "1\n",
      "2\n",
      "3\n",
      "4\n",
      "5\n"
     ]
    }
   ],
   "source": [
    "current_num = 1 ##Intial point (iteration)\n",
    "\n",
    "while current_num <=5:  ##this is the condition  (validation of condition)\n",
    "    print(current_num)\n",
    "    current_num +=1  ##way of writing the logic which means ===> current_num = current_num =1 "
   ]
  },
  {
   "cell_type": "code",
   "execution_count": 3,
   "metadata": {},
   "outputs": [
    {
     "name": "stdout",
     "output_type": "stream",
     "text": [
      "1\n",
      "2\n",
      "3\n",
      "4\n",
      "5\n",
      "6\n",
      "7\n",
      "8\n",
      "9\n",
      "10\n",
      "11\n",
      "12\n"
     ]
    }
   ],
   "source": [
    "current_num = 1\n",
    "while current_num <=12:\n",
    "    print(current_num)\n",
    "    current_num +=1"
   ]
  },
  {
   "cell_type": "code",
   "execution_count": null,
   "metadata": {},
   "outputs": [],
   "source": [
    "#*****IMP*****\n",
    "diffrence between while loop and for loop\n",
    "for loop:\n",
    "    It implements/prints every object in the list\n",
    "    \n",
    "while loop:\n",
    "    It execcutes based on the given conition."
   ]
  },
  {
   "cell_type": "code",
   "execution_count": null,
   "metadata": {},
   "outputs": [],
   "source": []
  },
  {
   "cell_type": "code",
   "execution_count": null,
   "metadata": {},
   "outputs": [],
   "source": [
    "#letting the user when to stop/quit: (integration of user accepted input and while loop)"
   ]
  },
  {
   "cell_type": "code",
   "execution_count": 4,
   "metadata": {},
   "outputs": [],
   "source": [
    "prompt = \"\\nTell me something, and I will repeat it for you.\"\n",
    "prompt += \"\\nEnter 'quit' to end the program.\""
   ]
  },
  {
   "cell_type": "code",
   "execution_count": 5,
   "metadata": {},
   "outputs": [
    {
     "name": "stdout",
     "output_type": "stream",
     "text": [
      "\n",
      "Tell me something, and I will repeat it for you.\n",
      "Enter 'quit' to end the program.Hello!\n",
      "Hello!\n",
      "\n",
      "Tell me something, and I will repeat it for you.\n",
      "Enter 'quit' to end the program.How are you?\n",
      "How are you?\n",
      "\n",
      "Tell me something, and I will repeat it for you.\n",
      "Enter 'quit' to end the program.\n",
      "\n",
      "\n",
      "Tell me something, and I will repeat it for you.\n",
      "Enter 'quit' to end the program.Have a great Day!\n",
      "Have a great Day!\n",
      "\n",
      "Tell me something, and I will repeat it for you.\n",
      "Enter 'quit' to end the program.quit\n",
      "quit\n"
     ]
    }
   ],
   "source": [
    "message = \" \"\n",
    "while message != 'quit':\n",
    "    message = input(prompt)\n",
    "    print(message)"
   ]
  },
  {
   "cell_type": "code",
   "execution_count": null,
   "metadata": {},
   "outputs": [],
   "source": []
  },
  {
   "cell_type": "code",
   "execution_count": 6,
   "metadata": {},
   "outputs": [
    {
     "name": "stdout",
     "output_type": "stream",
     "text": [
      "\n",
      "Tell me something, and I will repeat it for you.\n",
      "Enter 'quit' to end the program.Hi\n",
      "Hi\n",
      "\n",
      "Tell me something, and I will repeat it for you.\n",
      "Enter 'quit' to end the program.Enjoy the evening. quit\n",
      "Enjoy the evening. quit\n",
      "\n",
      "Tell me something, and I will repeat it for you.\n",
      "Enter 'quit' to end the program.quit\n",
      "quit\n"
     ]
    }
   ],
   "source": [
    "message = \" \" \n",
    "while message != 'quit':  # here quit is the condition to stop the loop\n",
    "    message = input(prompt)\n",
    "    print(message)"
   ]
  },
  {
   "cell_type": "code",
   "execution_count": null,
   "metadata": {},
   "outputs": [],
   "source": []
  },
  {
   "cell_type": "code",
   "execution_count": null,
   "metadata": {},
   "outputs": [],
   "source": [
    "#Using break to stop/exit the loop."
   ]
  },
  {
   "cell_type": "code",
   "execution_count": null,
   "metadata": {},
   "outputs": [],
   "source": []
  },
  {
   "cell_type": "code",
   "execution_count": 7,
   "metadata": {},
   "outputs": [],
   "source": [
    "prompt = \"\\nPlease enter he city you have visited recently\"\n",
    "prompt += \"\\n(Enter 'quit' when you are finished)\""
   ]
  },
  {
   "cell_type": "code",
   "execution_count": 8,
   "metadata": {},
   "outputs": [
    {
     "name": "stdout",
     "output_type": "stream",
     "text": [
      "\n",
      "Please enter he city you have visited recently\n",
      "(Enter 'quit' when you are finished)Pune\n",
      "I would love to visit Pune again.\n",
      "\n",
      "Please enter he city you have visited recently\n",
      "(Enter 'quit' when you are finished)Mumbai\n",
      "I would love to visit Mumbai again.\n",
      "\n",
      "Please enter he city you have visited recently\n",
      "(Enter 'quit' when you are finished)Delhi\n",
      "I would love to visit Delhi again.\n",
      "\n",
      "Please enter he city you have visited recently\n",
      "(Enter 'quit' when you are finished)quit\n"
     ]
    }
   ],
   "source": [
    "while True:\n",
    "    city = input(prompt)\n",
    "    if city == 'quit':\n",
    "        break ##Exiting loop is defined in if condition using break\n",
    "    else:\n",
    "        print(f\"I would love to visit {city.title()} again.\")"
   ]
  },
  {
   "cell_type": "code",
   "execution_count": null,
   "metadata": {},
   "outputs": [],
   "source": []
  }
 ],
 "metadata": {
  "kernelspec": {
   "display_name": "Python 3",
   "language": "python",
   "name": "python3"
  },
  "language_info": {
   "codemirror_mode": {
    "name": "ipython",
    "version": 3
   },
   "file_extension": ".py",
   "mimetype": "text/x-python",
   "name": "python",
   "nbconvert_exporter": "python",
   "pygments_lexer": "ipython3",
   "version": "3.7.6"
  }
 },
 "nbformat": 4,
 "nbformat_minor": 4
}
