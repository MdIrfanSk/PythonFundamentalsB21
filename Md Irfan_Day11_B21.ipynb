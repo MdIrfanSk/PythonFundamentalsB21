{
 "cells": [
  {
   "cell_type": "code",
   "execution_count": null,
   "metadata": {},
   "outputs": [],
   "source": [
    "###Mock_Interview session 1:"
   ]
  },
  {
   "cell_type": "code",
   "execution_count": null,
   "metadata": {},
   "outputs": [],
   "source": [
    "1. Explain String datatype: \n",
    "    Strings data type contains charachters can include the number & float, however will be treated as text.\n",
    "    It is defined using = sign using variable in left and value on right of = sign\n",
    "    eg. first_name = 'Irfan' (Here first_name is variable and Irfan is it's value)"
   ]
  },
  {
   "cell_type": "code",
   "execution_count": null,
   "metadata": {},
   "outputs": [],
   "source": []
  },
  {
   "cell_type": "code",
   "execution_count": null,
   "metadata": {},
   "outputs": [],
   "source": [
    "2. Classification of data type:\n",
    "    Data type re classified in two type as below:\n",
    "        1.Mutable Datatype: Changes can be made to this datatype in all forms such as deleting value, adding value etc\n",
    "            eg. List\n",
    "        2.Imutabe Datatype: No cahnges can be made to imutable datatype.\n",
    "            eg. Tuple"
   ]
  },
  {
   "cell_type": "code",
   "execution_count": null,
   "metadata": {},
   "outputs": [],
   "source": []
  },
  {
   "cell_type": "code",
   "execution_count": null,
   "metadata": {},
   "outputs": [],
   "source": [
    "3. What are the white spaces?? How to add or remove white spaces?\n",
    "White spaces are the additional spaces before or after the text or number.\n",
    "white spaces can be added or removed. Below is discreption.\n",
    "    Adding:\n",
    "        \\n: using this syntax we can add extra line after the text.\n",
    "        \\t: using this syntax we can add extra space after or before the text. (Tab)\n",
    "    Rmoving:\n",
    "        .lstrip: using this syntax we can remove the white space from left side of the text.\n",
    "        .rstrip: using this syntax we can remove the white space from right side of the text.\n",
    "        .strip: using this syntax we can remove the white space anywhere in the text."
   ]
  },
  {
   "cell_type": "code",
   "execution_count": null,
   "metadata": {},
   "outputs": [],
   "source": []
  },
  {
   "cell_type": "code",
   "execution_count": 5,
   "metadata": {},
   "outputs": [],
   "source": [
    "4. Combine the first name and last name"
   ]
  },
  {
   "cell_type": "code",
   "execution_count": 6,
   "metadata": {},
   "outputs": [
    {
     "name": "stdout",
     "output_type": "stream",
     "text": [
      "tony robert\n"
     ]
    }
   ],
   "source": [
    "first_name = 'tony'\n",
    "last_name = 'robert'\n",
    "full_name = f\"{first_name} {last_name}\"\n",
    "print(full_name)"
   ]
  },
  {
   "cell_type": "code",
   "execution_count": null,
   "metadata": {},
   "outputs": [],
   "source": []
  },
  {
   "cell_type": "code",
   "execution_count": null,
   "metadata": {},
   "outputs": [],
   "source": [
    "5. Say hello using full name."
   ]
  },
  {
   "cell_type": "code",
   "execution_count": 9,
   "metadata": {},
   "outputs": [
    {
     "name": "stdout",
     "output_type": "stream",
     "text": [
      "Hello,tony robert\n"
     ]
    }
   ],
   "source": [
    "print(f\"Hello,{full_name}\")"
   ]
  },
  {
   "cell_type": "code",
   "execution_count": 42,
   "metadata": {},
   "outputs": [
    {
     "name": "stdout",
     "output_type": "stream",
     "text": [
      "Hello, Tony Robert\n"
     ]
    }
   ],
   "source": [
    "print(f\"Hello, {full_name.title()}\")"
   ]
  },
  {
   "cell_type": "code",
   "execution_count": null,
   "metadata": {},
   "outputs": [],
   "source": []
  },
  {
   "cell_type": "code",
   "execution_count": null,
   "metadata": {},
   "outputs": [],
   "source": [
    "6. Print the name in a proper formatted (first latter capital) way using string methods."
   ]
  },
  {
   "cell_type": "code",
   "execution_count": 10,
   "metadata": {},
   "outputs": [
    {
     "name": "stdout",
     "output_type": "stream",
     "text": [
      "Hello,Tony Robert\n"
     ]
    }
   ],
   "source": [
    "print(f\"Hello,{full_name.title()}\")"
   ]
  },
  {
   "cell_type": "code",
   "execution_count": null,
   "metadata": {},
   "outputs": [],
   "source": []
  },
  {
   "cell_type": "code",
   "execution_count": null,
   "metadata": {},
   "outputs": [],
   "source": [
    "7. Explain the list data type.\n",
    "    It is a mutable data type.\n",
    "    It is a collection of items.\n",
    "    The items can be called using indexing which starts from 0,1,2,.... \n",
    "    Items can also be called using negative index starts from -1,-2,...\n",
    "    it defined using square brackets. []"
   ]
  },
  {
   "cell_type": "code",
   "execution_count": null,
   "metadata": {},
   "outputs": [],
   "source": []
  },
  {
   "cell_type": "code",
   "execution_count": null,
   "metadata": {},
   "outputs": [],
   "source": [
    "8. Add one member as Gawham to below list."
   ]
  },
  {
   "cell_type": "code",
   "execution_count": 16,
   "metadata": {},
   "outputs": [],
   "source": [
    "my_students = ['ajaj','chandra','ramya','nilesh','bhupen']\n",
    "my_students.append('gawtham')"
   ]
  },
  {
   "cell_type": "code",
   "execution_count": 17,
   "metadata": {},
   "outputs": [
    {
     "name": "stdout",
     "output_type": "stream",
     "text": [
      "['ajaj', 'chandra', 'ramya', 'nilesh', 'bhupen', 'gawtham']\n"
     ]
    }
   ],
   "source": [
    "print(my_students)"
   ]
  },
  {
   "cell_type": "code",
   "execution_count": 18,
   "metadata": {},
   "outputs": [
    {
     "data": {
      "text/plain": [
       "list"
      ]
     },
     "execution_count": 18,
     "metadata": {},
     "output_type": "execute_result"
    }
   ],
   "source": [
    "type(my_students)"
   ]
  },
  {
   "cell_type": "code",
   "execution_count": null,
   "metadata": {},
   "outputs": [],
   "source": []
  },
  {
   "cell_type": "code",
   "execution_count": null,
   "metadata": {},
   "outputs": [],
   "source": [
    "9. Add  Ayaz to the list in 2nd position"
   ]
  },
  {
   "cell_type": "code",
   "execution_count": 21,
   "metadata": {},
   "outputs": [],
   "source": [
    "my_students.insert(2,'ayaz')"
   ]
  },
  {
   "cell_type": "code",
   "execution_count": 23,
   "metadata": {},
   "outputs": [
    {
     "name": "stdout",
     "output_type": "stream",
     "text": [
      "['ajaj', 'chandra', 'ayaz', 'ayaz', 'ramya', 'nilesh', 'bhupen', 'gawtham']\n"
     ]
    }
   ],
   "source": [
    "print(my_students)"
   ]
  },
  {
   "cell_type": "code",
   "execution_count": null,
   "metadata": {},
   "outputs": [],
   "source": []
  },
  {
   "cell_type": "code",
   "execution_count": null,
   "metadata": {},
   "outputs": [],
   "source": [
    "10. Print names in the list usign for loop.  "
   ]
  },
  {
   "cell_type": "code",
   "execution_count": 25,
   "metadata": {
    "scrolled": true
   },
   "outputs": [
    {
     "name": "stdout",
     "output_type": "stream",
     "text": [
      "Ajaj\n",
      "Chandra\n",
      "Ayaz\n",
      "Ayaz\n",
      "Ramya\n",
      "Nilesh\n",
      "Bhupen\n",
      "Gawtham\n"
     ]
    }
   ],
   "source": [
    "for student in my_students:\n",
    "    print(student.title())"
   ]
  },
  {
   "cell_type": "code",
   "execution_count": null,
   "metadata": {},
   "outputs": [],
   "source": []
  },
  {
   "cell_type": "code",
   "execution_count": null,
   "metadata": {},
   "outputs": [],
   "source": [
    "11. Add \"keep up the good work\" and Print names in the list usign for loop."
   ]
  },
  {
   "cell_type": "code",
   "execution_count": 28,
   "metadata": {
    "scrolled": true
   },
   "outputs": [
    {
     "name": "stdout",
     "output_type": "stream",
     "text": [
      "Keep up the good work, Ajaj\n",
      "Keep up the good work, Chandra\n",
      "Keep up the good work, Ayaz\n",
      "Keep up the good work, Ayaz\n",
      "Keep up the good work, Ramya\n",
      "Keep up the good work, Nilesh\n",
      "Keep up the good work, Bhupen\n",
      "Keep up the good work, Gawtham\n"
     ]
    }
   ],
   "source": [
    "for x in my_students:\n",
    "    print(f\"Keep up the good work, {x.title()}\")"
   ]
  },
  {
   "cell_type": "code",
   "execution_count": null,
   "metadata": {},
   "outputs": [],
   "source": []
  },
  {
   "cell_type": "code",
   "execution_count": null,
   "metadata": {},
   "outputs": [],
   "source": [
    "12.Add \"keep up the good work\" and \"Send the practice file for today also\" and Print names in the list usign for loop and add a gap of one line whitin every name."
   ]
  },
  {
   "cell_type": "code",
   "execution_count": 37,
   "metadata": {},
   "outputs": [
    {
     "name": "stdout",
     "output_type": "stream",
     "text": [
      "Keep up the good work, Ajaj.\n",
      "\tSend me the practice file today also, Ajaj\n",
      "\n",
      "Keep up the good work, Chandra.\n",
      "\tSend me the practice file today also, Chandra\n",
      "\n",
      "Keep up the good work, Ayaz.\n",
      "\tSend me the practice file today also, Ayaz\n",
      "\n",
      "Keep up the good work, Ayaz.\n",
      "\tSend me the practice file today also, Ayaz\n",
      "\n",
      "Keep up the good work, Ramya.\n",
      "\tSend me the practice file today also, Ramya\n",
      "\n",
      "Keep up the good work, Nilesh.\n",
      "\tSend me the practice file today also, Nilesh\n",
      "\n",
      "Keep up the good work, Bhupen.\n",
      "\tSend me the practice file today also, Bhupen\n",
      "\n",
      "Keep up the good work, Gawtham.\n",
      "\tSend me the practice file today also, Gawtham\n",
      "\n"
     ]
    }
   ],
   "source": [
    "for x in my_students:\n",
    "    print(f\"Keep up the good work, {x.title()}.\" )\n",
    "    print(f\"\\tSend me the practice file today also, {x.title()}\\n\")"
   ]
  },
  {
   "cell_type": "code",
   "execution_count": 34,
   "metadata": {
    "scrolled": true
   },
   "outputs": [
    {
     "name": "stdout",
     "output_type": "stream",
     "text": [
      "Keep up the good work,Ajaj. Send me the practice file today also.\n",
      "\n",
      "Keep up the good work,Chandra. Send me the practice file today also.\n",
      "\n",
      "Keep up the good work,Ayaz. Send me the practice file today also.\n",
      "\n",
      "Keep up the good work,Ayaz. Send me the practice file today also.\n",
      "\n",
      "Keep up the good work,Ramya. Send me the practice file today also.\n",
      "\n",
      "Keep up the good work,Nilesh. Send me the practice file today also.\n",
      "\n",
      "Keep up the good work,Bhupen. Send me the practice file today also.\n",
      "\n",
      "Keep up the good work,Gawtham. Send me the practice file today also.\n",
      "\n"
     ]
    }
   ],
   "source": [
    "for x in my_students:\n",
    "    print(f\"Keep up the good work,{x.title()}. Send me the practice file today also.\\n\" )"
   ]
  },
  {
   "cell_type": "code",
   "execution_count": null,
   "metadata": {},
   "outputs": [],
   "source": []
  },
  {
   "cell_type": "code",
   "execution_count": null,
   "metadata": {},
   "outputs": [],
   "source": [
    "13. Explain Tuple.\n",
    "    It is a collction of items.\n",
    "    It is Immutable data type.\n",
    "    Can not be modified once declared.\n",
    "    It is defined using normal brackets.()"
   ]
  },
  {
   "cell_type": "code",
   "execution_count": null,
   "metadata": {},
   "outputs": [],
   "source": []
  },
  {
   "cell_type": "code",
   "execution_count": null,
   "metadata": {},
   "outputs": [],
   "source": [
    "14. Explain Dictionary data type.\n",
    "    It is a collection of Key items and it's values.\n",
    "    It is mutable data type.\n",
    "    The values can be called using it's key, howvere a key cannot be called using it's value.\n",
    "    It called as dict.\n",
    "    It is defined using curley brackets. {}"
   ]
  },
  {
   "cell_type": "code",
   "execution_count": null,
   "metadata": {},
   "outputs": [],
   "source": []
  },
  {
   "cell_type": "code",
   "execution_count": null,
   "metadata": {},
   "outputs": [],
   "source": [
    "15. Add a field : \"IT\" to below dictionary."
   ]
  },
  {
   "cell_type": "code",
   "execution_count": 39,
   "metadata": {},
   "outputs": [],
   "source": [
    "students = {'class':'python','name':'gawtham'}"
   ]
  },
  {
   "cell_type": "code",
   "execution_count": 40,
   "metadata": {},
   "outputs": [],
   "source": [
    "students['field']='IT'"
   ]
  },
  {
   "cell_type": "code",
   "execution_count": 41,
   "metadata": {},
   "outputs": [
    {
     "name": "stdout",
     "output_type": "stream",
     "text": [
      "{'class': 'python', 'name': 'gawtham', 'field': 'IT'}\n"
     ]
    }
   ],
   "source": [
    "print(students)"
   ]
  },
  {
   "cell_type": "code",
   "execution_count": null,
   "metadata": {},
   "outputs": [],
   "source": []
  }
 ],
 "metadata": {
  "kernelspec": {
   "display_name": "Python 3",
   "language": "python",
   "name": "python3"
  },
  "language_info": {
   "codemirror_mode": {
    "name": "ipython",
    "version": 3
   },
   "file_extension": ".py",
   "mimetype": "text/x-python",
   "name": "python",
   "nbconvert_exporter": "python",
   "pygments_lexer": "ipython3",
   "version": "3.7.6"
  }
 },
 "nbformat": 4,
 "nbformat_minor": 4
}
